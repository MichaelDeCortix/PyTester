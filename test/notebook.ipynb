{
 "cells": [
  {
   "cell_type": "code",
   "execution_count": 1,
   "metadata": {},
   "outputs": [],
   "source": [
    "import pytester"
   ]
  },
  {
   "attachments": {},
   "cell_type": "markdown",
   "metadata": {},
   "source": [
    "#### `request()` usage example:"
   ]
  },
  {
   "cell_type": "code",
   "execution_count": 14,
   "metadata": {},
   "outputs": [
    {
     "name": "stdout",
     "output_type": "stream",
     "text": [
      "Response time (ms): 0.416305\n",
      "Code: 200\n"
     ]
    },
    {
     "data": {
      "text/html": [
       "<pre style=\"white-space:pre;overflow-x:auto;line-height:normal;font-family:Menlo,'DejaVu Sans Mono',consolas,'Courier New',monospace\"><span style=\"font-weight: bold\">{</span>\n",
       "  <span style=\"color: #d78700; text-decoration-color: #d78700\">\"name\"</span>: <span style=\"color: #0087d7; text-decoration-color: #0087d7\">\"Yavin IV\"</span>,\n",
       "  <span style=\"color: #d78700; text-decoration-color: #d78700\">\"rotation_period\"</span>: <span style=\"color: #0087d7; text-decoration-color: #0087d7\">\"24\"</span>,\n",
       "  <span style=\"color: #d78700; text-decoration-color: #d78700\">\"orbital_period\"</span>: <span style=\"color: #0087d7; text-decoration-color: #0087d7\">\"4818\"</span>,\n",
       "  <span style=\"color: #d78700; text-decoration-color: #d78700\">\"diameter\"</span>: <span style=\"color: #0087d7; text-decoration-color: #0087d7\">\"10200\"</span>,\n",
       "  <span style=\"color: #d78700; text-decoration-color: #d78700\">\"climate\"</span>: <span style=\"color: #0087d7; text-decoration-color: #0087d7\">\"temperate, tropical\"</span>,\n",
       "  <span style=\"color: #d78700; text-decoration-color: #d78700\">\"gravity\"</span>: <span style=\"color: #0087d7; text-decoration-color: #0087d7\">\"1 standard\"</span>,\n",
       "  <span style=\"color: #d78700; text-decoration-color: #d78700\">\"terrain\"</span>: <span style=\"color: #0087d7; text-decoration-color: #0087d7\">\"jungle, rainforests\"</span>,\n",
       "  <span style=\"color: #d78700; text-decoration-color: #d78700\">\"surface_water\"</span>: <span style=\"color: #0087d7; text-decoration-color: #0087d7\">\"8\"</span>,\n",
       "  <span style=\"color: #d78700; text-decoration-color: #d78700\">\"population\"</span>: <span style=\"color: #0087d7; text-decoration-color: #0087d7\">\"1000\"</span>,\n",
       "  <span style=\"color: #d78700; text-decoration-color: #d78700\">\"residents\"</span>: <span style=\"font-weight: bold\">[]</span>,\n",
       "  <span style=\"color: #d78700; text-decoration-color: #d78700\">\"films\"</span>: <span style=\"font-weight: bold\">[</span>\n",
       "    <span style=\"color: #0087d7; text-decoration-color: #0087d7\">\"https://swapi.dev/api/films/1/\"</span>\n",
       "  <span style=\"font-weight: bold\">]</span>,\n",
       "  <span style=\"color: #d78700; text-decoration-color: #d78700\">\"created\"</span>: <span style=\"color: #0087d7; text-decoration-color: #0087d7\">\"2014-12-10T11:37:19.144000Z\"</span>,\n",
       "  <span style=\"color: #d78700; text-decoration-color: #d78700\">\"edited\"</span>: <span style=\"color: #0087d7; text-decoration-color: #0087d7\">\"2014-12-20T20:58:18.421000Z\"</span>,\n",
       "  <span style=\"color: #d78700; text-decoration-color: #d78700\">\"url\"</span>: <span style=\"color: #0087d7; text-decoration-color: #0087d7\">\"https://swapi.dev/api/planets/3/\"</span>\n",
       "<span style=\"font-weight: bold\">}</span>\n",
       "</pre>\n"
      ],
      "text/plain": [
       "\u001b[1m{\u001b[0m\n",
       "  \u001b[38;5;172m\"name\"\u001b[0m: \u001b[38;5;32m\"Yavin IV\"\u001b[0m,\n",
       "  \u001b[38;5;172m\"rotation_period\"\u001b[0m: \u001b[38;5;32m\"24\"\u001b[0m,\n",
       "  \u001b[38;5;172m\"orbital_period\"\u001b[0m: \u001b[38;5;32m\"4818\"\u001b[0m,\n",
       "  \u001b[38;5;172m\"diameter\"\u001b[0m: \u001b[38;5;32m\"10200\"\u001b[0m,\n",
       "  \u001b[38;5;172m\"climate\"\u001b[0m: \u001b[38;5;32m\"temperate, tropical\"\u001b[0m,\n",
       "  \u001b[38;5;172m\"gravity\"\u001b[0m: \u001b[38;5;32m\"1 standard\"\u001b[0m,\n",
       "  \u001b[38;5;172m\"terrain\"\u001b[0m: \u001b[38;5;32m\"jungle, rainforests\"\u001b[0m,\n",
       "  \u001b[38;5;172m\"surface_water\"\u001b[0m: \u001b[38;5;32m\"8\"\u001b[0m,\n",
       "  \u001b[38;5;172m\"population\"\u001b[0m: \u001b[38;5;32m\"1000\"\u001b[0m,\n",
       "  \u001b[38;5;172m\"residents\"\u001b[0m: \u001b[1m[\u001b[0m\u001b[1m]\u001b[0m,\n",
       "  \u001b[38;5;172m\"films\"\u001b[0m: \u001b[1m[\u001b[0m\n",
       "    \u001b[38;5;32m\"https://swapi.dev/api/films/1/\"\u001b[0m\n",
       "  \u001b[1m]\u001b[0m,\n",
       "  \u001b[38;5;172m\"created\"\u001b[0m: \u001b[38;5;32m\"2014-12-10T11:37:19.144000Z\"\u001b[0m,\n",
       "  \u001b[38;5;172m\"edited\"\u001b[0m: \u001b[38;5;32m\"2014-12-20T20:58:18.421000Z\"\u001b[0m,\n",
       "  \u001b[38;5;172m\"url\"\u001b[0m: \u001b[38;5;32m\"https://swapi.dev/api/planets/3/\"\u001b[0m\n",
       "\u001b[1m}\u001b[0m\n"
      ]
     },
     "metadata": {},
     "output_type": "display_data"
    },
    {
     "data": {
      "application/vnd.jupyter.widget-view+json": {
       "model_id": "aafd23d5740f485790fdc84b25479d3f",
       "version_major": 2,
       "version_minor": 0
      },
      "text/plain": [
       "VBox(children=(Text(value=\"curl -X GET -H 'Accept: application/json' -H 'Accept-Encoding: gzip, deflate' -H 'C…"
      ]
     },
     "metadata": {},
     "output_type": "display_data"
    }
   ],
   "source": [
    "url = f\"https://swapi.dev/api/planets/3/?format=json\"\n",
    "\n",
    "headers = {\n",
    "    \"Content-Type\": \"application/json\", \n",
    "    \"Accept\": \"application/json\"\n",
    "    }\n",
    "\n",
    "data = {\"test\": \"test\"}\n",
    "\n",
    "response = pytester.request(\"GET\", url, headers=headers, data=data)"
   ]
  }
 ],
 "metadata": {
  "kernelspec": {
   "display_name": "Python 3",
   "language": "python",
   "name": "python3"
  },
  "language_info": {
   "codemirror_mode": {
    "name": "ipython",
    "version": 3
   },
   "file_extension": ".py",
   "mimetype": "text/x-python",
   "name": "python",
   "nbconvert_exporter": "python",
   "pygments_lexer": "ipython3",
   "version": "3.10.10"
  },
  "orig_nbformat": 4
 },
 "nbformat": 4,
 "nbformat_minor": 2
}
